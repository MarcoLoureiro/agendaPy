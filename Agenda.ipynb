{
 "cells": [
  {
   "cell_type": "markdown",
   "id": "130a3a89",
   "metadata": {},
   "source": [
    "# Agenda de Contatos\n",
    "## Desenvolva uma agenda de contatos persistindo as informações em arquivo, o programa deve seguir as seguintes especificidades :\n",
    "- Criar um arquivo agenda contendo 3 métodos\n",
    "- Um método para adicionar contato\n",
    "- um método para listar contatos\n",
    "- um método para remover contatos\n",
    "- Criar um arquivo principal para a aplicação importar o módulo de agenda e chamar cada um dos métodos desenvolvidos de acordo com a opção escolhida"
   ]
  },
  {
   "cell_type": "code",
   "execution_count": 1,
   "id": "56c619fc",
   "metadata": {},
   "outputs": [],
   "source": [
    "import schedule as sc"
   ]
  },
  {
   "cell_type": "code",
   "execution_count": 2,
   "id": "6fa43bc9",
   "metadata": {},
   "outputs": [],
   "source": [
    "schedule1 = sc.Schedule()"
   ]
  },
  {
   "cell_type": "code",
   "execution_count": 3,
   "id": "e6a2c2d6",
   "metadata": {},
   "outputs": [],
   "source": [
    "schedule1.add_contact(\"Marco, 40028921, Rua Quintino\")\n",
    "schedule1.add_contact(\"Antonio, 40028922, Rua Quintino\")\n",
    "schedule1.add_contact(\"Loureiro, 40028923, Rua Quintino\")"
   ]
  },
  {
   "cell_type": "code",
   "execution_count": 4,
   "id": "d4dc97f3",
   "metadata": {},
   "outputs": [
    {
     "name": "stdout",
     "output_type": "stream",
     "text": [
      "Marco, 40028921, Rua Quintino\n",
      "Antonio, 40028922, Rua Quintino\n",
      "Loureiro, 40028923, Rua Quintino\n"
     ]
    }
   ],
   "source": [
    "schedule1.read_contacts()"
   ]
  },
  {
   "cell_type": "code",
   "execution_count": 5,
   "id": "6d2da3c8",
   "metadata": {},
   "outputs": [
    {
     "name": "stdout",
     "output_type": "stream",
     "text": [
      "Antonio removed!\n"
     ]
    }
   ],
   "source": [
    "schedule1.remove_contact(\"Antonio\")"
   ]
  },
  {
   "cell_type": "code",
   "execution_count": 6,
   "id": "18c24908",
   "metadata": {},
   "outputs": [
    {
     "name": "stdout",
     "output_type": "stream",
     "text": [
      "Marco, 40028921, Rua Quintino\n",
      "Loureiro, 40028923, Rua Quintino\n"
     ]
    }
   ],
   "source": [
    "schedule1.read_contacts()"
   ]
  },
  {
   "cell_type": "code",
   "execution_count": null,
   "id": "db19684e",
   "metadata": {},
   "outputs": [],
   "source": []
  }
 ],
 "metadata": {
  "kernelspec": {
   "display_name": "Python 3 (ipykernel)",
   "language": "python",
   "name": "python3"
  },
  "language_info": {
   "codemirror_mode": {
    "name": "ipython",
    "version": 3
   },
   "file_extension": ".py",
   "mimetype": "text/x-python",
   "name": "python",
   "nbconvert_exporter": "python",
   "pygments_lexer": "ipython3",
   "version": "3.9.13"
  }
 },
 "nbformat": 4,
 "nbformat_minor": 5
}
